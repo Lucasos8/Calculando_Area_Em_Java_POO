{
  "nbformat": 4,
  "nbformat_minor": 0,
  "metadata": {
    "colab": {
      "provenance": [],
      "authorship_tag": "ABX9TyOhKQ1LMJMwOI3AyTL/IiVJ",
      "include_colab_link": true
    },
    "kernelspec": {
      "name": "python3",
      "display_name": "Python 3"
    },
    "language_info": {
      "name": "python"
    }
  },
  "cells": [
    {
      "cell_type": "markdown",
      "metadata": {
        "id": "view-in-github",
        "colab_type": "text"
      },
      "source": [
        "<a href=\"https://colab.research.google.com/github/Lucasos8/Calculando_Area_Em_Java_POO/blob/main/atividadePython.ipynb\" target=\"_parent\"><img src=\"https://colab.research.google.com/assets/colab-badge.svg\" alt=\"Open In Colab\"/></a>"
      ]
    },
    {
      "cell_type": "code",
      "execution_count": null,
      "metadata": {
        "id": "vsnqAJJEZa7c"
      },
      "outputs": [],
      "source": [
        ""
      ]
    },
    {
      "cell_type": "markdown",
      "source": [],
      "metadata": {
        "id": "OZw_nom7tYM0"
      }
    },
    {
      "cell_type": "markdown",
      "source": [
        "Faça um programa que calcula a soma de todos os números digitados pelo usuário. O\n",
        "seu programa deve perguntar para o usuário qual o tamanho da sequência de números\n",
        "a ser somada."
      ],
      "metadata": {
        "id": "ek4HQR1zgymb"
      }
    },
    {
      "cell_type": "code",
      "source": [
        "print(\"digite o tamanho da sequencia de numeros que deseja somar\")\n",
        "seq = int(input())\n",
        "soma = 0\n",
        "\n",
        "for i in range(1, seq+1):\n",
        "  n = float(input(\"digite o numero que deseja somar\"))\n",
        "  soma = soma + n\n",
        "print(\"A soma é \",soma)\n"
      ],
      "metadata": {
        "id": "G5nmGesZg0k7",
        "colab": {
          "base_uri": "https://localhost:8080/"
        },
        "outputId": "cda11036-d535-44cf-cd0e-a8fc9e6e9143"
      },
      "execution_count": null,
      "outputs": [
        {
          "output_type": "stream",
          "name": "stdout",
          "text": [
            "digite o tamanho da sequencia de numeros que deseja somar\n",
            "10\n",
            "digite o numero que deseja somar1\n",
            "digite o numero que deseja somar2\n",
            "digite o numero que deseja somar3\n",
            "digite o numero que deseja somar4\n",
            "digite o numero que deseja somar5\n",
            "digite o numero que deseja somar6\n",
            "digite o numero que deseja somar7\n",
            "digite o numero que deseja somar8\n",
            "digite o numero que deseja somar9\n",
            "digite o numero que deseja somar10\n",
            "A soma é  55.0\n"
          ]
        }
      ]
    },
    {
      "cell_type": "markdown",
      "source": [
        "Faça um programa que lê n números inteiros do teclado, e no final informa qual foi\n",
        "o maior número lido. O programa deve encerrar quando o usuário digita 0."
      ],
      "metadata": {
        "id": "Izyyxvn6pwQk"
      }
    },
    {
      "cell_type": "code",
      "source": [
        "print(\"digite varios numeros e o programa identificarar o maior digitado, para encerrar digite 0\")\n",
        "n = -1\n",
        "nMaior = 0\n",
        "while(n != 0):\n",
        "    n = int(input(\"digite o numero inteiro\"))\n",
        "    if n > nMaior:\n",
        "      nMaior = n\n",
        "print(\"O número maior é \", nMaior)"
      ],
      "metadata": {
        "id": "IL6yikzTpxfz",
        "colab": {
          "base_uri": "https://localhost:8080/"
        },
        "outputId": "bbd12d2c-5e01-4a5c-d600-95fffb2022a6"
      },
      "execution_count": null,
      "outputs": [
        {
          "output_type": "stream",
          "name": "stdout",
          "text": [
            "digite varios numeros e o programa identificarar o maior digitado, para encerrar digite 0\n",
            "digite o numero inteiro2\n",
            "digite o numero inteiro1\n",
            "digite o numero inteiro3\n",
            "digite o numero inteiro5\n",
            "digite o numero inteiro7\n",
            "digite o numero inteiro100\n",
            "digite o numero inteiro10\n",
            "digite o numero inteiro2\n",
            "digite o numero inteiro3\n",
            "digite o numero inteiro0\n",
            "O número maior é  100\n"
          ]
        }
      ]
    },
    {
      "cell_type": "markdown",
      "source": [
        "Escreva um programa que lê um número inteiro N do teclado e imprime \"SIM\" se o\n",
        "número for par e maior do que 10, ou for ímpar e menor do que 50. Caso contrário\n",
        "o programa deve imprimir \"NAO\"."
      ],
      "metadata": {
        "id": "yFcGec0XsJNP"
      }
    },
    {
      "cell_type": "code",
      "source": [
        "n = int(input(\"Escreva um número inteiro  \"))\n",
        "\n",
        "if n % 2 == 0 and n > 10 or n % 2 == 1 and n < 50:\n",
        "  print(\"SIM\")\n",
        "else:\n",
        "  print(\"NAO\")"
      ],
      "metadata": {
        "colab": {
          "base_uri": "https://localhost:8080/"
        },
        "id": "ZzEBT3jasLTX",
        "outputId": "deeb2a2d-f446-4074-d149-2f698240a031"
      },
      "execution_count": null,
      "outputs": [
        {
          "output_type": "stream",
          "name": "stdout",
          "text": [
            "Escreva um número inteiro  81\n",
            "NAO\n"
          ]
        }
      ]
    },
    {
      "cell_type": "markdown",
      "source": [
        "Qual o resultado do programa abaixo?"
      ],
      "metadata": {
        "id": "0w9cjGjwsMy-"
      }
    },
    {
      "cell_type": "code",
      "source": [
        "def soma(x,y):\n",
        "  z = x+y\n",
        "  return c\n",
        "\n",
        "def multiplica(x, y):\n",
        "  w = x*z\n",
        "  return w\n",
        "\n",
        "def mensagemFinal():\n",
        "  print(\"Até\", end=\" \")\n",
        "  print(\"logo!\")\n",
        "\n",
        "x = soma(2, 3)\n",
        "\n",
        "y = multiplica(2, 3)\n",
        "\n",
        "print(\"x = {} e y = {}\". format(x, y))\n",
        "\n",
        "mensagemFinal()\n",
        "\n",
        "#Resposta: Nem um, ele não vai funcionar."
      ],
      "metadata": {
        "colab": {
          "base_uri": "https://localhost:8080/",
          "height": 332
        },
        "id": "O4SGtHNQsNud",
        "outputId": "639ab62f-aacc-4148-b78f-7635f725322b"
      },
      "execution_count": null,
      "outputs": [
        {
          "output_type": "error",
          "ename": "NameError",
          "evalue": "name 'c' is not defined",
          "traceback": [
            "\u001b[0;31m---------------------------------------------------------------------------\u001b[0m",
            "\u001b[0;31mNameError\u001b[0m                                 Traceback (most recent call last)",
            "\u001b[0;32m<ipython-input-15-b16588277448>\u001b[0m in \u001b[0;36m<cell line: 13>\u001b[0;34m()\u001b[0m\n\u001b[1;32m     11\u001b[0m   \u001b[0mprint\u001b[0m\u001b[0;34m(\u001b[0m\u001b[0;34m\"logo!\"\u001b[0m\u001b[0;34m)\u001b[0m\u001b[0;34m\u001b[0m\u001b[0;34m\u001b[0m\u001b[0m\n\u001b[1;32m     12\u001b[0m \u001b[0;34m\u001b[0m\u001b[0m\n\u001b[0;32m---> 13\u001b[0;31m \u001b[0mx\u001b[0m \u001b[0;34m=\u001b[0m \u001b[0msoma\u001b[0m\u001b[0;34m(\u001b[0m\u001b[0;36m2\u001b[0m\u001b[0;34m,\u001b[0m \u001b[0;36m3\u001b[0m\u001b[0;34m)\u001b[0m\u001b[0;34m\u001b[0m\u001b[0;34m\u001b[0m\u001b[0m\n\u001b[0m\u001b[1;32m     14\u001b[0m \u001b[0;34m\u001b[0m\u001b[0m\n\u001b[1;32m     15\u001b[0m \u001b[0my\u001b[0m \u001b[0;34m=\u001b[0m \u001b[0mmultiplica\u001b[0m\u001b[0;34m(\u001b[0m\u001b[0;36m2\u001b[0m\u001b[0;34m,\u001b[0m \u001b[0;36m3\u001b[0m\u001b[0;34m)\u001b[0m\u001b[0;34m\u001b[0m\u001b[0;34m\u001b[0m\u001b[0m\n",
            "\u001b[0;32m<ipython-input-15-b16588277448>\u001b[0m in \u001b[0;36msoma\u001b[0;34m(x, y)\u001b[0m\n\u001b[1;32m      1\u001b[0m \u001b[0;32mdef\u001b[0m \u001b[0msoma\u001b[0m\u001b[0;34m(\u001b[0m\u001b[0mx\u001b[0m\u001b[0;34m,\u001b[0m\u001b[0my\u001b[0m\u001b[0;34m)\u001b[0m\u001b[0;34m:\u001b[0m\u001b[0;34m\u001b[0m\u001b[0;34m\u001b[0m\u001b[0m\n\u001b[1;32m      2\u001b[0m   \u001b[0mz\u001b[0m \u001b[0;34m=\u001b[0m \u001b[0mx\u001b[0m\u001b[0;34m+\u001b[0m\u001b[0my\u001b[0m\u001b[0;34m\u001b[0m\u001b[0;34m\u001b[0m\u001b[0m\n\u001b[0;32m----> 3\u001b[0;31m   \u001b[0;32mreturn\u001b[0m \u001b[0mc\u001b[0m\u001b[0;34m\u001b[0m\u001b[0;34m\u001b[0m\u001b[0m\n\u001b[0m\u001b[1;32m      4\u001b[0m \u001b[0;34m\u001b[0m\u001b[0m\n\u001b[1;32m      5\u001b[0m \u001b[0;32mdef\u001b[0m \u001b[0mmultiplica\u001b[0m\u001b[0;34m(\u001b[0m\u001b[0mx\u001b[0m\u001b[0;34m,\u001b[0m \u001b[0my\u001b[0m\u001b[0;34m)\u001b[0m\u001b[0;34m:\u001b[0m\u001b[0;34m\u001b[0m\u001b[0;34m\u001b[0m\u001b[0m\n",
            "\u001b[0;31mNameError\u001b[0m: name 'c' is not defined"
          ]
        }
      ]
    },
    {
      "cell_type": "markdown",
      "source": [
        "Qual o resultado do programa abaixo?"
      ],
      "metadata": {
        "id": "9rVaSBdcsPu9"
      }
    },
    {
      "cell_type": "code",
      "source": [
        "def soma(a, b):\n",
        "  c = a + b\n",
        "  return c\n",
        "  print(\"Bla bla bla!\")\n",
        "\n",
        "x = int(input())\n",
        "y = int(input())\n",
        "\n",
        "r = soma(x, y)\n",
        "print(\"r = \",r)\n",
        "#a impressão da soma r"
      ],
      "metadata": {
        "id": "rpYlPZVFsRam",
        "colab": {
          "base_uri": "https://localhost:8080/"
        },
        "outputId": "05a6d945-fec2-40ba-f463-fa3cabc35c18"
      },
      "execution_count": 8,
      "outputs": [
        {
          "output_type": "stream",
          "name": "stdout",
          "text": [
            "1\n",
            "2\n",
            "r =  3\n"
          ]
        }
      ]
    },
    {
      "cell_type": "markdown",
      "source": [
        "Escreva uma função que calcula o maior valor de três números inteiros a, b e c.\n"
      ],
      "metadata": {
        "id": "aEriHxjZsR-W"
      }
    },
    {
      "cell_type": "code",
      "source": [
        "print(\"Função que calcula o maior valor de três números inteiros\")\n",
        "a = int(input(\"Escreva o primeiro número \"))\n",
        "b = int(input(\"Escreva o segundo número \"))\n",
        "c = int(input(\"Escreva o terceiro número \"))\n",
        "\n",
        "if a > b and a > c:\n",
        "  print(\"Maximo = \", A)\n",
        "elif b > a and b > c:\n",
        "  print(\"Maximo = \",b)\n",
        "else:\n",
        "  print(\"Maximo = \",c)"
      ],
      "metadata": {
        "colab": {
          "base_uri": "https://localhost:8080/"
        },
        "id": "Q-oLZ1eTsTV2",
        "outputId": "433356da-e2d7-4380-8e64-dcba86fb66e6"
      },
      "execution_count": null,
      "outputs": [
        {
          "output_type": "stream",
          "name": "stdout",
          "text": [
            "Função que calcula o maior valor de três números inteiros\n",
            "Escreva o primeiro número 9\n",
            "Escreva o segundo número 8\n",
            "Escreva o terceiro número 100\n",
            "Maximo =  100\n"
          ]
        }
      ]
    },
    {
      "cell_type": "markdown",
      "source": [
        "Escreva uma função somatorio(n) que calcule (imagem do trabalho)"
      ],
      "metadata": {
        "id": "542MlCG0sTo-"
      }
    },
    {
      "cell_type": "code",
      "source": [
        "n = int(input(\"Digite um numero inteiro \"))\n",
        "soma = 0\n",
        "for i in range(1, n+1):\n",
        "    soma = soma + i\n",
        "print(soma)"
      ],
      "metadata": {
        "colab": {
          "base_uri": "https://localhost:8080/"
        },
        "id": "wF9syqSgsUSU",
        "outputId": "aa60e52c-f267-400c-ba0f-7b6ef2c86f52"
      },
      "execution_count": null,
      "outputs": [
        {
          "output_type": "stream",
          "name": "stdout",
          "text": [
            "Digite um numero inteiro5\n",
            "15\n"
          ]
        }
      ]
    },
    {
      "cell_type": "markdown",
      "source": [
        "Escreva um programa que recebe como entradas dois números inteiros correspondentes\n",
        "à largura e à altura de um retângulo. O programa deve imprimir o retângulo informado com caracteres ’#’ na\n",
        "saída."
      ],
      "metadata": {
        "id": "oN2Ex6b8sWw7"
      }
    },
    {
      "cell_type": "code",
      "source": [
        "print(\"Digite a altura e a largura do retângulo para que ele possa ser feito em #, utilize apenas números inteiros.\")\n",
        "a = int(input(\"Coloque a altura \"))\n",
        "l = int(input(\"Coloque a largura \"))\n",
        "\n",
        "for i in range(1, a+1):\n",
        "  print(\"#\" * l)\n"
      ],
      "metadata": {
        "id": "CzRatwcesX21",
        "colab": {
          "base_uri": "https://localhost:8080/"
        },
        "outputId": "181e8fa3-d370-4192-f01f-5cde4b0349e7"
      },
      "execution_count": null,
      "outputs": [
        {
          "output_type": "stream",
          "name": "stdout",
          "text": [
            "Digite a altura e a largura do retângulo para que ele possa ser feito em #, utilize apenas números inteiros.\n",
            "Coloque a altura 5\n",
            "Coloque a largura 5\n",
            "#####\n",
            "#####\n",
            "#####\n",
            "#####\n",
            "#####\n"
          ]
        }
      ]
    },
    {
      "cell_type": "markdown",
      "source": [
        "Faça um programa que monte os oito primeiros termos da sequência de Fibonacci.\n",
        "0-1-1-2-3-5-8-13-21-34-55..."
      ],
      "metadata": {
        "id": "EZkCXWInsYdT"
      }
    },
    {
      "cell_type": "code",
      "source": [
        "print(\"sequencia de Fibonacci\")\n",
        "termo = 0\n",
        "for i in range(1, 9):\n",
        "  if termo == 0:\n",
        "    print(0)\n",
        "    termo = 0 + 1\n",
        "    print(termo)\n",
        "  elif termo == 1:\n",
        "    print(termo)\n",
        "    termo = 1 + 1\n",
        "    print(termo)\n",
        "  elif termo == 2:\n",
        "    termo = termo + 1\n",
        "    print(termo)\n",
        "  elif termo == 3:\n",
        "    termo = termo + 2\n",
        "    print(termo)\n",
        "  elif termo == 5:\n",
        "    termo = termo + 3\n",
        "    print(termo)\n",
        "  elif termo == 8:\n",
        "    termo = termo + 5\n",
        "    print(termo)\n",
        "  elif termo == 13:\n",
        "    termo = termo + 8\n",
        "    print(termo)\n",
        "  else:\n",
        "    termo = termo + 13\n",
        "    print(termo,\" - \")\n"
      ],
      "metadata": {
        "id": "0-LuMVv9sZYL",
        "colab": {
          "base_uri": "https://localhost:8080/"
        },
        "outputId": "0ae75bc7-cf2d-4528-fdcf-7660f0d85b6f"
      },
      "execution_count": 1,
      "outputs": [
        {
          "output_type": "stream",
          "name": "stdout",
          "text": [
            "sequencia de Fibonacci\n",
            "0\n",
            "1\n",
            "1\n",
            "2\n",
            "3\n",
            "5\n",
            "8\n",
            "13\n",
            "21\n",
            "34  - \n"
          ]
        }
      ]
    },
    {
      "cell_type": "markdown",
      "source": [
        "Faça um programa que receba um número inteiro maior que 1, verifique se o número fornecido é primo\n",
        "ou não e mostre uma mensagem de número primo ou de número não primo.\n",
        "Um número é primo quando é divisível apenas por 1 e por ele mesmo."
      ],
      "metadata": {
        "id": "t1lE0gmvsZyj"
      }
    },
    {
      "cell_type": "code",
      "source": [
        "n = int(input(\"Digite seu número para ver se é primo ou não primo \"))\n",
        "\n",
        "if n > 1:\n",
        "    for i in range(2, n):\n",
        "        if (n % i) == 0:\n",
        "            print(n, \"não é um número primo\")\n",
        "            break\n",
        "    else:\n",
        "        print(n, \"é um número primo\")\n",
        "else:\n",
        "    print(n, \"não é um número primo\")"
      ],
      "metadata": {
        "id": "ggM7Ao4RsaoD",
        "colab": {
          "base_uri": "https://localhost:8080/"
        },
        "outputId": "9d374694-b841-4b51-cc9c-2e5413798d9b"
      },
      "execution_count": 7,
      "outputs": [
        {
          "output_type": "stream",
          "name": "stdout",
          "text": [
            "Digite seu número para ver se é primo ou não primo 4\n",
            "4 não é um número primo\n"
          ]
        }
      ]
    },
    {
      "cell_type": "markdown",
      "source": [
        "Faça um programa que receba vários números, calcule e mostre:\n",
        "■■a soma dos números digitados;\n",
        "■■a quantidade de números digitados;\n",
        "■■a média dos números digitados;\n",
        "■■o maior número digitado;\n",
        "■■o menor número digitado;\n",
        "■■a média dos números pares;\n",
        "■■a porcentagem dos números ímpares entre todos os números digitados.\n",
        "Finalize a entrada de dados com a digitação do número 30.000.n11"
      ],
      "metadata": {
        "id": "ol2KpT_tsbPD"
      }
    },
    {
      "cell_type": "code",
      "source": [
        "print(\"Bem vindo, escreva números a vontade e para finalizar gigite o número 30000\")\n",
        "contador = 0\n",
        "soma = 0\n",
        "maior = 0\n",
        "menor = 9999999999999\n",
        "contadorPar = 0\n",
        "contadorImpar = 0\n",
        "porcentagemImpar = 0\n",
        "par = 0\n",
        "n = 0\n",
        "while n != 30000:\n",
        "  #contar números digitados\n",
        "  contador = contador + 1\n",
        "  n = float(input(\"Digite um número \"))\n",
        "  #somar números digitados\n",
        "  soma = soma + n\n",
        "  #calcular a média dos números digitados\n",
        "  media = soma / contador\n",
        "  #definir qual é o maior\n",
        "  if n > maior:\n",
        "    maior = n\n",
        "  #definir qual é o menor\n",
        "  if n < menor:\n",
        "    menor = n\n",
        "  #definir se o número é par ou impar\n",
        "  if n % 2 == 0:\n",
        "    contadorPar = contadorPar + 1\n",
        "    par = par + n\n",
        "    mediaPar = par / contadorPar\n",
        "  else:\n",
        "    contadorImpar = contadorImpar + 1\n",
        "#descobri porcentagem de números impares\n",
        "porcentagemImpar = ((contadorImpar/contadorPar)* 100)\n",
        "print(\"A soma de todos os números é = \", soma)\n",
        "print(\"A quantidade de numeros digitados é = \", contador)\n",
        "print(\"A média dos números digitados é = \", media)\n",
        "print(\"O maior número digitado é = \", maior)\n",
        "print(\"O menor número digitado é = \", menor)\n",
        "print(\"A média dos números pares é = \",mediaPar)\n",
        "print(\"A porcentagem de número impar entre dosos os números digitados é = \", porcentagemImpar, \"%\")"
      ],
      "metadata": {
        "id": "VmPOYYLbscDE",
        "colab": {
          "base_uri": "https://localhost:8080/"
        },
        "outputId": "acb7512d-ec55-4785-e7d1-3ed3f77df785"
      },
      "execution_count": 2,
      "outputs": [
        {
          "output_type": "stream",
          "name": "stdout",
          "text": [
            "Bem vindo, escreva números a vontade e para finalizar gigite o número 30000\n",
            "Digite um número 1\n",
            "Digite um número 2\n",
            "Digite um número 3\n",
            "Digite um número 4\n",
            "Digite um número 6\n",
            "Digite um número 70\n",
            "Digite um número 56\n",
            "Digite um número 30000\n",
            "A soma de todos os números é =  30142.0\n",
            "A quantidade de numeros digitados é =  8\n",
            "A média dos números digitados é =  3767.75\n",
            "O maior número digitado é =  30000.0\n",
            "O menor número digitado é =  1.0\n",
            "A média dos números pares é =  5023.0\n",
            "A porcentagem de número impar entre dosos os números digitados é =  33.33333333333333 %\n"
          ]
        }
      ]
    }
  ]
}